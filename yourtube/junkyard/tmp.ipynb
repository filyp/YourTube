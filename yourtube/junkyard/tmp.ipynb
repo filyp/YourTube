{
 "cells": [
  {
   "cell_type": "code",
   "execution_count": null,
   "metadata": {},
   "outputs": [],
   "source": [
    "import ipyvuetify as v\n",
    "import panel as pn\n",
    "from IPython.core.display import HTML, display\n",
    "from IPython.display import Javascript\n",
    "from ipywidgets import (\n",
    "    Button,\n",
    "    Checkbox,\n",
    "    HBox,\n",
    "    Image,\n",
    "    IntSlider,\n",
    "    Label,\n",
    "    Layout,\n",
    "    Output,\n",
    "    VBox,\n",
    ")"
   ]
  },
  {
   "cell_type": "code",
   "execution_count": null,
   "metadata": {},
   "outputs": [],
   "source": [
    "pn.extension()"
   ]
  },
  {
   "cell_type": "code",
   "execution_count": null,
   "metadata": {},
   "outputs": [],
   "source": [
    "template = pn.template.MaterialTemplate()\n",
    "\n",
    "button_open = pn.widgets.Button(name=\"openNav\")\n",
    "template.main.append(button_open)"
   ]
  },
  {
   "cell_type": "code",
   "execution_count": null,
   "metadata": {},
   "outputs": [],
   "source": [
    "template.show()"
   ]
  },
  {
   "cell_type": "code",
   "execution_count": null,
   "metadata": {},
   "outputs": [],
   "source": []
  },
  {
   "cell_type": "code",
   "execution_count": null,
   "metadata": {},
   "outputs": [],
   "source": []
  },
  {
   "cell_type": "code",
   "execution_count": null,
   "metadata": {},
   "outputs": [],
   "source": []
  },
  {
   "cell_type": "code",
   "execution_count": null,
   "metadata": {},
   "outputs": [],
   "source": []
  },
  {
   "cell_type": "code",
   "execution_count": null,
   "metadata": {},
   "outputs": [],
   "source": []
  },
  {
   "cell_type": "code",
   "execution_count": null,
   "metadata": {},
   "outputs": [],
   "source": [
    "# button = v.Btn(class_=\"ma-4\", children=[\"Go4\"])\n",
    "# button2 = v.Btn(class_=\"ma-2\", children=[\"Go42\"])"
   ]
  },
  {
   "cell_type": "code",
   "execution_count": null,
   "metadata": {},
   "outputs": [],
   "source": [
    "# row = pn.Row(button, button2)\n",
    "# pn.panel(row).servable()"
   ]
  },
  {
   "cell_type": "code",
   "execution_count": null,
   "metadata": {},
   "outputs": [],
   "source": [
    "%%HTML\n",
    "<link href=\"https://fonts.googleapis.com/css?family=Roboto:300,400,500\" rel=\"stylesheet\">\n",
    "<link href=\"https://fonts.googleapis.com/css?family=Material+Icons&display=block\" rel=\"stylesheet\">"
   ]
  },
  {
   "cell_type": "code",
   "execution_count": null,
   "metadata": {},
   "outputs": [],
   "source": [
    "%%HTML\n",
    "<script src=\"https://unpkg.com/@webcomponents/webcomponentsjs@next/webcomponents-loader.js\"></script>\n",
    "<script type=\"module\" src=\"https://unpkg.com/@material/mwc-button?module\"></script>\n",
    "<script type=\"module\" src=\"https://unpkg.com/@material/mwc-drawer?module\"></script>\n",
    "<script type=\"module\" src=\"https://unpkg.com/@material/mwc-icon-button?module\"></script>\n",
    "<script type=\"module\" src=\"https://unpkg.com/@material/mwc-slider?module\"></script>\n",
    "<script type=\"module\" src=\"https://unpkg.com/@material/mwc-top-app-bar-fixed?module\"></script>\n",
    "<script type=\"module\" src=\"https://unpkg.com/@material/mwc-switch?module\"></script>"
   ]
  },
  {
   "cell_type": "code",
   "execution_count": null,
   "metadata": {},
   "outputs": [],
   "source": [
    "%%HTML\n",
    "<div>\n",
    "<mwc-drawer hasHeader type=\"dismissible\">\n",
    "    <span slot=\"title\">Material App</span>\n",
    "    <div class=\"appMenu\">\n",
    "        <mwc-button label=\"Data\" icon=\"archive\"></mwc-button>\n",
    "        <mwc-button label=\"Models\" icon=\"gesture\"></mwc-button>\n",
    "        <mwc-button label=\"Analytics\" icon=\"assessment\"></mwc-button>\n",
    "    </div>\n",
    "    <div class=\"appContent\" slot=\"appContent\">\n",
    "        <mwc-top-app-bar-fixed class=\"appBar\">\n",
    "            <mwc-icon-button icon=\"menu\" slot=\"navigationIcon\" class=\"appDrawerToggleButton\"></mwc-icon-button>\n",
    "            <div slot=\"title\" style=\"font-size:20px;\">Panel App</div>\n",
    "        </mwc-top-app-bar-fixed>\n",
    "        <div>\n",
    "            <p><h1>Main Content!</h1></p>\n",
    "            <mwc-button raised=\"\" label=\"raised\"></mwc-button>\n",
    "            <mwc-slider pin markers max=\"50\" value=\"10\" step=\"5\"></mwc-slider>\n",
    "            <mwc-switch name=\"hu\"></mwc-switch>\n",
    "        </div>\n",
    "    </div>\n",
    "</mwc-drawer>\n",
    "<script>\n",
    "        var drawers = document.getElementsByTagName(\"mwc-drawer\");\n",
    "        \n",
    "        <!-- Enables toggling of multiple drawers --> \n",
    "        for (let drawer of drawers){\n",
    "            var button = drawer.getElementsByClassName('appDrawerToggleButton')[0];\n",
    "            button.onclick = function(e) {\n",
    "            var button = e.target;\n",
    "            var drawer = button;\n",
    "            while (drawer.tagName!==\"MWC-DRAWER\") {\n",
    "              drawer=drawer.parentElement;\n",
    "            }\n",
    "            drawer.open = !drawer.open;\n",
    "            };\n",
    "\n",
    "        \n",
    "            <!-- Enables displaying the bar in a notebook cell instead of full window --> \n",
    "            var bar = drawer.getElementsByClassName('appBar')[0];\n",
    "            bar.scrollTarget = drawer.getElementsByClassName('appContent')[0];\n",
    "        }\n",
    "</script>\n",
    "</div>"
   ]
  },
  {
   "cell_type": "code",
   "execution_count": null,
   "metadata": {},
   "outputs": [],
   "source": []
  },
  {
   "cell_type": "code",
   "execution_count": null,
   "metadata": {},
   "outputs": [],
   "source": []
  },
  {
   "cell_type": "code",
   "execution_count": null,
   "metadata": {},
   "outputs": [],
   "source": []
  },
  {
   "cell_type": "code",
   "execution_count": null,
   "metadata": {},
   "outputs": [],
   "source": []
  },
  {
   "cell_type": "code",
   "execution_count": null,
   "metadata": {},
   "outputs": [],
   "source": []
  },
  {
   "cell_type": "code",
   "execution_count": null,
   "metadata": {},
   "outputs": [],
   "source": []
  },
  {
   "cell_type": "code",
   "execution_count": null,
   "metadata": {},
   "outputs": [],
   "source": []
  },
  {
   "cell_type": "code",
   "execution_count": null,
   "metadata": {},
   "outputs": [],
   "source": [
    "template = \"\"\"\n",
    "{% extends base %}\n",
    "\n",
    "<!-- goes in head -->\n",
    "{% block postamble %}\n",
    "<script src=\"https://unpkg.com/@webcomponents/webcomponentsjs@next/webcomponents-loader.js\"></script>\n",
    "<script type=\"module\" src=\"https://unpkg.com/@material/mwc-button?module\"></script>\n",
    "<script type=\"module\" src=\"https://unpkg.com/@material/mwc-drawer?module\"></script>\n",
    "<script type=\"module\" src=\"https://unpkg.com/@material/mwc-icon-button?module\"></script>\n",
    "<script type=\"module\" src=\"https://unpkg.com/@material/mwc-slider?module\"></script>\n",
    "<script type=\"module\" src=\"https://unpkg.com/@material/mwc-top-app-bar-fixed?module\"></script>\n",
    "<link href=\"https://fonts.googleapis.com/css?family=Roboto:300,400,500\" rel=\"stylesheet\">\n",
    "<link href=\"https://fonts.googleapis.com/css?family=Material+Icons&display=block\" rel=\"stylesheet\">\n",
    "<link rel=\"stylesheet\" type=\"text/css\" href=\"https://unpkg.com/@material/layout-grid@0.41.0/dist/mdc.layout-grid.min.css\">\n",
    "<style>\n",
    ".grid {\n",
    "  width: 100%;\n",
    "  background: #EEEEEE;\n",
    "}\n",
    "\n",
    ".grid-cell {\n",
    "  height: 210px;\n",
    "  border-radius: 4px;\n",
    "  <-- box-shadow:0 10px 16px 0 rgba(0,0,0,0.2),0 6px 20px 0 rgba(0,0,0,0.19); -->\n",
    "  padding: 5px;\n",
    "}\n",
    "</style>\n",
    "\n",
    "<style>\n",
    "body {\n",
    "    font-family: roboto;\n",
    "    margin: 0px;\n",
    "}\n",
    "mwc-top-app-bar-fixed {\n",
    "    box-shadow: 5px 5px 20px #9E9E9E;\n",
    "    font-size: 20px;\n",
    "}\n",
    "\n",
    "mwc-drawer {\n",
    "    min-height:200px;\n",
    "    height:100%;\n",
    "}\n",
    ".appMenu * {\n",
    "    width:100%;\n",
    "    align-items: left;\n",
    "}\n",
    ".appMain {\n",
    "    margin: 10px;\n",
    "}\n",
    "</style>\n",
    "\n",
    "{% endblock %}\n",
    "\n",
    "<!-- goes in body -->\n",
    "{% block contents %}\n",
    "<mwc-drawer hasHeader type=\"dismissible\">\n",
    "    <span slot=\"title\">{{ app_title }}</span>\n",
    "    <span slot=\"subtitle\">subtitle</span>\n",
    "    <div class=\"appMenu\">\n",
    "        <mwc-button label=\"Data\" icon=\"archive\"></mwc-button>\n",
    "        <mwc-button label=\"Models\" icon=\"gesture\"></mwc-button>\n",
    "        <mwc-button label=\"Analytics\" icon=\"assessment\"></mwc-button>\n",
    "    </div>\n",
    "    <div class=\"appContent\" slot=\"appContent\">\n",
    "        <mwc-top-app-bar-fixed class=\"appBar\">\n",
    "            <mwc-icon-button icon=\"menu\" slot=\"navigationIcon\" class=\"appDrawerToggleButton\"></mwc-icon-button>\n",
    "            <div slot=\"title\" style=\"font-size:20px;\">{{ app_title }}</div>\n",
    "            <mwc-icon-button icon=\"favorite\" slot=\"actionItems\"></mwc-icon-button>\n",
    "            <mwc-icon-button icon=\"perm_identity\" slot=\"actionItems\" label=\"Login\"></mwc-icon-button>\n",
    "        </mwc-top-app-bar-fixed>\n",
    "        <div class=\"appMain\">\n",
    "            <p><h1>Content!</h1></p>\n",
    "            <p>This is a Panel app with a Material template allowing us to compose multiple Panel objects into a single HTML document.</p><br>\n",
    "            <mwc-button raised=\"\" label=\"raised\"></mwc-button>\n",
    "            <mwc-icon-button icon=\"favorite\" slot=\"actionItems\"></mwc-icon-button>\n",
    "            <mwc-slider pin markers max=\"50\" value=\"10\" step=\"5\"></mwc-slider>\n",
    "            <div class=\"mdc-layout-grid grid\">\n",
    "            <div class=\"mdc-layout-grid__inner\">\n",
    "            <div class=\"mdc-layout-grid__cell mdc-layout-grid__cell--span-12 grid-cell\">{{ embed(roots.G) }}</div>\n",
    "            <div class=\"mdc-layout-grid__cell mdc-layout-grid__cell--span-6 grid-cell\">{{ embed(roots.A) }}</div>\n",
    "            <div class=\"mdc-layout-grid__cell mdc-layout-grid__cell--span-6 grid-cell\">{{ embed(roots.B) }}</div>\n",
    "            <div class=\"mdc-layout-grid__cell mdc-layout-grid__cell--span-3 grid-cell\">{{ embed(roots.C) }}</div>\n",
    "            <div class=\"mdc-layout-grid__cell mdc-layout-grid__cell--span-3 grid-cell\">{{ embed(roots.D) }}</div>\n",
    "            <div class=\"mdc-layout-grid__cell mdc-layout-grid__cell--span-3 grid-cell\">{{ embed(roots.E) }}</div>\n",
    "            <div class=\"mdc-layout-grid__cell mdc-layout-grid__cell--span-3 grid-cell\">{{ embed(roots.F) }}</div>\n",
    "        </div>\n",
    "    </div>\n",
    "</mwc-drawer>\n",
    "<script>\n",
    "    var drawers = document.getElementsByTagName(\"mwc-drawer\");\n",
    "\n",
    "    <!-- Enables toggling of drawer --> \n",
    "    for (let drawer of drawers){\n",
    "      var button = drawer.getElementsByClassName('appDrawerToggleButton')[0];\n",
    "      button.onclick = function(e) {\n",
    "        var button = e.target;\n",
    "        var drawer = button;\n",
    "        while (drawer.tagName!==\"MWC-DRAWER\") {\n",
    "          drawer=drawer.parentElement;\n",
    "        }\n",
    "        drawer.open = !drawer.open;\n",
    "        const open = drawer.open;\n",
    "        \n",
    "        var drawers = document.getElementsByTagName(\"mwc-drawer\");\n",
    "        for (let drawer of drawers){drawer.open=open}\n",
    "      };\n",
    "      \n",
    "      <!-- Enables displaying the bar in a notebook cell instead of full window --> \n",
    "      var bar = drawer.getElementsByClassName('appBar')[0];\n",
    "      bar.scrollTarget = drawer.getElementsByClassName('appContent')[0];\n",
    "      \n",
    "      drawer.shadow\n",
    "    }\n",
    "</script>\n",
    "{% endblock %}\n",
    "\"\"\""
   ]
  },
  {
   "cell_type": "code",
   "execution_count": null,
   "metadata": {},
   "outputs": [],
   "source": [
    "tmpl = pn.Template(template=template)\n",
    "\n",
    "tmpl.add_variable('app_title', 'Panel App')\n",
    "material_green = \"rgb(0, 128, 0)\"\n",
    "material_purple= \"#9C27B0\"\n",
    "color = material_green\n",
    "line_width=4\n",
    "\n",
    "tmpl.add_panel('A', hv.Curve([1, 2, 3]).opts(height=200,color=color, line_width=line_width, responsive=True))\n",
    "tmpl.add_panel('B', hv.Curve([1, 2, 3]).opts(height=200,color=color, line_width=line_width, responsive=True))\n",
    "tmpl.add_panel('C', hv.Curve([1, 2, 3]).opts(height=200,color=color, line_width=line_width, responsive=True))\n",
    "tmpl.add_panel('D', hv.Curve([1, 2, 3]).opts(height=200,color=color, line_width=line_width, responsive=True))\n",
    "tmpl.add_panel('E', hv.Curve([1, 2, 3]).opts(height=200,color=color, line_width=line_width, responsive=True))\n",
    "tmpl.add_panel('F', hv.Curve([1, 2, 3]).opts(height=200,color=color, line_width=line_width, responsive=True))\n",
    "tmpl.add_panel('G', hv.Curve([1, 2, 3]).opts(height=200,color=color, line_width=line_width, responsive=True))\n",
    "tmpl"
   ]
  }
 ],
 "metadata": {
  "interpreter": {
   "hash": "b90379eab07d8fb75334f67154029117ff58025f7427f790c5cfa0c24dbbaf4c"
  },
  "kernelspec": {
   "display_name": "Python 3.9.7 64-bit ('yourtube-wu_Fat6S-py3.9': poetry)",
   "name": "python3"
  },
  "language_info": {
   "codemirror_mode": {
    "name": "ipython",
    "version": 3
   },
   "file_extension": ".py",
   "mimetype": "text/x-python",
   "name": "python",
   "nbconvert_exporter": "python",
   "pygments_lexer": "ipython3",
   "version": "3.9.7"
  }
 },
 "nbformat": 4,
 "nbformat_minor": 2
}
