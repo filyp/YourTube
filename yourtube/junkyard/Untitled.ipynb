{
 "cells": [
  {
   "cell_type": "code",
   "execution_count": null,
   "id": "d9cd510b",
   "metadata": {},
   "outputs": [],
   "source": [
    "import ipyvuetify as v\n",
    "import panel as pn\n",
    "from IPython.core.display import HTML, display\n",
    "from IPython.display import Javascript\n",
    "from ipywidgets import (\n",
    "    Button,\n",
    "    Checkbox,\n",
    "    HBox,\n",
    "    Image,\n",
    "    IntSlider,\n",
    "    Label,\n",
    "    Layout,\n",
    "    Output,\n",
    "    VBox,\n",
    ")"
   ]
  },
  {
   "cell_type": "code",
   "execution_count": null,
   "id": "122be2db",
   "metadata": {},
   "outputs": [],
   "source": [
    "pn.extension()"
   ]
  },
  {
   "cell_type": "code",
   "execution_count": null,
   "id": "ce9eae49",
   "metadata": {},
   "outputs": [],
   "source": [
    "gspec = pn.GridSpec(width=800, height=600)\n",
    "\n",
    "gspec[:, 0] = pn.Spacer(background=\"red\", margin=0)\n",
    "gspec[0, 1:3] = pn.Spacer(background=\"green\", margin=0)\n",
    "gspec[1, 2:4] = pn.Spacer(background=\"orange\", margin=0)\n",
    "gspec[2, 1:4] = pn.Spacer(background=\"blue\", margin=0)\n",
    "gspec[0:1, 3:4] = pn.Spacer(background=\"purple\", margin=0)\n",
    "\n",
    "gspec"
   ]
  },
  {
   "cell_type": "code",
   "execution_count": null,
   "id": "9c142ca0",
   "metadata": {},
   "outputs": [],
   "source": [
    "gspec.grid"
   ]
  },
  {
   "cell_type": "code",
   "execution_count": null,
   "id": "3c653e97",
   "metadata": {},
   "outputs": [],
   "source": []
  },
  {
   "cell_type": "code",
   "execution_count": null,
   "id": "da7311a6",
   "metadata": {},
   "outputs": [],
   "source": []
  },
  {
   "cell_type": "code",
   "execution_count": null,
   "id": "c8875049",
   "metadata": {},
   "outputs": [],
   "source": [
    "txt = \"\"\"\n",
    "<h1>This is an HTML pane</h1>\n",
    "\n",
    "<code>\n",
    "x = 5;<br>\n",
    "y = 6;<br>\n",
    "z = x + y;\n",
    "</code>\n",
    "\n",
    "<br>\n",
    "<br>\n",
    "\n",
    "<table>\n",
    "  <tr>\n",
    "    <th>Firstname</th>\n",
    "    <th>Lastname</th> \n",
    "    <th>Age</th>\n",
    "  </tr>\n",
    "  <tr>\n",
    "    <td>Jill</td>\n",
    "    <td>Smith</td> \n",
    "    <td>50</td>\n",
    "  </tr>\n",
    "  <tr>\n",
    "    <td>Eve</td>\n",
    "    <td>Jackson</td> \n",
    "    <td>94</td>\n",
    "  </tr>\n",
    "</table>\n",
    "\"\"\"\n",
    "\n",
    "\n",
    "txt2 = \"\"\"\n",
    "<h1>This is an HTML pane</h1>\n",
    "\n",
    "<code>\n",
    "chuuuj = 5;<br>\n",
    "y = 6;<br>\n",
    "z = x + y;\n",
    "</code>\n",
    "\n",
    "<br>\n",
    "<br>\n",
    "\n",
    "<table>\n",
    "  <tr>\n",
    "    <th>Firstname</th>\n",
    "    <th>Lastname</th> \n",
    "    <th>Age</th>\n",
    "  </tr>\n",
    "  <tr>\n",
    "    <td>Jill</td>\n",
    "    <td>Smith</td> \n",
    "    <td>50</td>\n",
    "  </tr>\n",
    "  <tr>\n",
    "    <td>Eve</td>\n",
    "    <td>Jackson</td> \n",
    "    <td>94</td>\n",
    "  </tr>\n",
    "</table>\n",
    "\"\"\""
   ]
  },
  {
   "cell_type": "code",
   "execution_count": null,
   "id": "1e9b8b6a",
   "metadata": {},
   "outputs": [],
   "source": [
    "button = v.Btn(class_=\"ma-4\", children=[\"Go4\"])\n",
    "button2 = v.Btn(class_=\"ma-2\", children=[\"Go42\"])"
   ]
  },
  {
   "cell_type": "code",
   "execution_count": null,
   "id": "879357e6",
   "metadata": {},
   "outputs": [],
   "source": [
    "old_button = Button(description=\"asdf\")\n",
    "old_button2 = Button(description=\"zxcv\")"
   ]
  },
  {
   "cell_type": "code",
   "execution_count": null,
   "id": "8bcb6631",
   "metadata": {},
   "outputs": [],
   "source": [
    "# html = HTML(txt)\n",
    "html = pn.pane.HTML(txt)"
   ]
  },
  {
   "cell_type": "code",
   "execution_count": null,
   "id": "6eb7c78f",
   "metadata": {},
   "outputs": [],
   "source": [
    "# caption = Label(value=\"The slider value is nonnegative\")\n",
    "# output = Output()\n",
    "# row = HBox([button, output], layout=Layout(width=\"2000px\"))\n",
    "# # # row = HBox([button, button2], layout=Layout(width=\"2000px\"))\n",
    "# # row"
   ]
  },
  {
   "cell_type": "code",
   "execution_count": null,
   "id": "e4225d8b",
   "metadata": {},
   "outputs": [],
   "source": [
    "def handle_change(_widget, _event, _data):\n",
    "    #     caption.value = str(time())\n",
    "    #     html.object = txt2\n",
    "    global output\n",
    "    output.append_stdout(\"asdf\")\n",
    "\n",
    "\n",
    "# button.observe(handle_change)\n",
    "button.on_event(\"click\", handle_change)"
   ]
  },
  {
   "cell_type": "code",
   "execution_count": null,
   "id": "591e3aec",
   "metadata": {},
   "outputs": [],
   "source": [
    "b = pn.widgets.Button()"
   ]
  },
  {
   "cell_type": "code",
   "execution_count": null,
   "id": "4d014657",
   "metadata": {},
   "outputs": [],
   "source": [
    "pn.panel(pn.Row(b, b)).show()"
   ]
  },
  {
   "cell_type": "code",
   "execution_count": null,
   "id": "7774e4e0",
   "metadata": {},
   "outputs": [],
   "source": []
  },
  {
   "cell_type": "code",
   "execution_count": null,
   "id": "2d0cd70a",
   "metadata": {},
   "outputs": [],
   "source": [
    "gspec = pn.GridSpec(width=800, height=600)\n",
    "\n",
    "gspec[0:1, 0:2] = old_button\n",
    "gspec[1:2, 0:2] = button\n",
    "gspec[0:2, 2] = old_button2\n",
    "gspec[0:2, 3] = button2\n",
    "gspec[0:2, 4] = html\n",
    "\n",
    "gspec\n",
    "\n",
    "pn.panel(gspec).show()"
   ]
  },
  {
   "cell_type": "code",
   "execution_count": null,
   "id": "b4967291",
   "metadata": {},
   "outputs": [],
   "source": []
  },
  {
   "cell_type": "code",
   "execution_count": null,
   "id": "2e279a9a",
   "metadata": {},
   "outputs": [],
   "source": []
  },
  {
   "cell_type": "code",
   "execution_count": null,
   "id": "9dc4ad69",
   "metadata": {},
   "outputs": [],
   "source": [
    "row = pn.Row(button, button2)\n",
    "pn.panel(row).show()"
   ]
  },
  {
   "cell_type": "code",
   "execution_count": null,
   "id": "08c8c770",
   "metadata": {},
   "outputs": [],
   "source": []
  },
  {
   "cell_type": "code",
   "execution_count": null,
   "id": "d079b59a",
   "metadata": {},
   "outputs": [],
   "source": [
    "button.observe"
   ]
  },
  {
   "cell_type": "code",
   "execution_count": null,
   "id": "6bcd2c1f",
   "metadata": {},
   "outputs": [],
   "source": [
    "row"
   ]
  },
  {
   "cell_type": "code",
   "execution_count": null,
   "id": "2ac568a8",
   "metadata": {},
   "outputs": [],
   "source": [
    "html.data = txt"
   ]
  },
  {
   "cell_type": "code",
   "execution_count": null,
   "id": "f31fd4d3",
   "metadata": {},
   "outputs": [],
   "source": [
    "pn.panel(row).show()"
   ]
  },
  {
   "cell_type": "code",
   "execution_count": null,
   "id": "caaf01df",
   "metadata": {},
   "outputs": [],
   "source": [
    "pn.panel(h).show()"
   ]
  },
  {
   "cell_type": "code",
   "execution_count": null,
   "id": "48cdf928",
   "metadata": {},
   "outputs": [],
   "source": [
    "h.object = txt2"
   ]
  },
  {
   "cell_type": "code",
   "execution_count": null,
   "id": "06c49699",
   "metadata": {},
   "outputs": [],
   "source": []
  },
  {
   "cell_type": "code",
   "execution_count": null,
   "id": "5e5ec817",
   "metadata": {},
   "outputs": [],
   "source": []
  },
  {
   "cell_type": "code",
   "execution_count": null,
   "id": "bf797b3b",
   "metadata": {},
   "outputs": [],
   "source": []
  },
  {
   "cell_type": "code",
   "execution_count": null,
   "id": "fbc107b4",
   "metadata": {},
   "outputs": [],
   "source": [
    "from threading import Thread\n",
    "from time import sleep, time"
   ]
  },
  {
   "cell_type": "code",
   "execution_count": null,
   "id": "56ec33f0",
   "metadata": {},
   "outputs": [],
   "source": [
    "def f():\n",
    "    print(\"start\")\n",
    "    sleep(3)\n",
    "    print(\"end\")"
   ]
  },
  {
   "cell_type": "code",
   "execution_count": null,
   "id": "4839911c",
   "metadata": {},
   "outputs": [],
   "source": [
    "t = Thread(target=f)"
   ]
  }
 ],
 "metadata": {
  "interpreter": {
   "hash": "767d51c1340bd893661ea55ea3124f6de3c7a262a8b4abca0554b478b1e2ff90"
  },
  "kernelspec": {
   "display_name": "Python 3",
   "language": "python",
   "name": "python3"
  },
  "language_info": {
   "codemirror_mode": {
    "name": "ipython",
    "version": 3
   },
   "file_extension": ".py",
   "mimetype": "text/x-python",
   "name": "python",
   "nbconvert_exporter": "python",
   "pygments_lexer": "ipython3",
   "version": "3.9.7"
  }
 },
 "nbformat": 4,
 "nbformat_minor": 5
}
