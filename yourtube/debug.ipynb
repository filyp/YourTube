{
 "cells": [
  {
   "cell_type": "code",
   "execution_count": null,
   "metadata": {},
   "outputs": [],
   "source": [
    "# # TODO fix videos with ids: ...\",\"'\n",
    "\n",
    "# for id_ in G.nodes:\n",
    "#     if '...\",\"' in id_:\n",
    "#         print(G.nodes[id_])"
   ]
  },
  {
   "cell_type": "code",
   "execution_count": null,
   "metadata": {},
   "outputs": [],
   "source": [
    "import os\n",
    "import sys\n",
    "\n",
    "import networkx as nx\n",
    "from neo4j import GraphDatabase\n",
    "\n",
    "sys.path.append(os.path.abspath(\"..\"))\n",
    "import matplotlib.pyplot as plt\n",
    "\n",
    "from yourtube.neo4j_queries import *\n",
    "from yourtube.scraping import *\n",
    "\n",
    "driver = GraphDatabase.driver(\"neo4j://localhost:7687\", auth=(\"neo4j\", \"yourtube\"))"
   ]
  },
  {
   "cell_type": "code",
   "execution_count": null,
   "metadata": {},
   "outputs": [],
   "source": [
    "with driver.session() as s:\n",
    "    s.write_transaction(create_constraints)"
   ]
  },
  {
   "cell_type": "code",
   "execution_count": null,
   "metadata": {},
   "outputs": [],
   "source": [
    "# id_ = \"HxGELmaqSHU\"\n",
    "# id_ = 'YOrJJ...\",\"'\n",
    "id_ = \"Fa_un5wXC-ch\""
   ]
  },
  {
   "cell_type": "code",
   "execution_count": null,
   "metadata": {},
   "outputs": [],
   "source": [
    "# down_id = \"3zUBBuqumbQ\"\n",
    "\n",
    "# content = get_content(down_id)\n",
    "# scrape_content(content, down_id, driver)"
   ]
  },
  {
   "cell_type": "code",
   "execution_count": null,
   "metadata": {},
   "outputs": [],
   "source": [
    "# G = nx.DiGraph()\n",
    "\n",
    "# scrape_content(content, id_, G)"
   ]
  },
  {
   "cell_type": "code",
   "execution_count": null,
   "metadata": {},
   "outputs": [],
   "source": [
    "def get_video(tx, id_):\n",
    "    res = tx.run(\n",
    "        \"\"\"\n",
    "        MATCH (v:video {video_id: $id_})\n",
    "        RETURN v\n",
    "        \"\"\",\n",
    "        id_=id_,\n",
    "    ).single()\n",
    "    if res is not None:\n",
    "        return res[0]\n",
    "    else:\n",
    "        return None"
   ]
  },
  {
   "cell_type": "code",
   "execution_count": null,
   "metadata": {},
   "outputs": [],
   "source": [
    "#  G = load_graph()"
   ]
  },
  {
   "cell_type": "code",
   "execution_count": null,
   "metadata": {},
   "outputs": [],
   "source": [
    "# delete all\n",
    "with driver.session() as s:\n",
    "    s.write_transaction(delete_all)"
   ]
  },
  {
   "cell_type": "code",
   "execution_count": null,
   "metadata": {},
   "outputs": [],
   "source": []
  },
  {
   "cell_type": "code",
   "execution_count": null,
   "metadata": {},
   "outputs": [],
   "source": []
  },
  {
   "cell_type": "code",
   "execution_count": null,
   "metadata": {},
   "outputs": [],
   "source": []
  },
  {
   "cell_type": "code",
   "execution_count": null,
   "metadata": {},
   "outputs": [],
   "source": [
    "with driver.session() as s:\n",
    "    node_pairs = s.read_transaction(get_all_user_relevant_video_info, \"default\")"
   ]
  },
  {
   "cell_type": "code",
   "execution_count": null,
   "metadata": {},
   "outputs": [],
   "source": [
    "G = nx.DiGraph()\n",
    "for v1, v2 in node_pairs:\n",
    "    G.add_node(v1[\"video_id\"], **v1)\n",
    "    G.add_node(v2[\"video_id\"], **v2)\n",
    "    G.add_edge(v1[\"video_id\"], v2[\"video_id\"])"
   ]
  },
  {
   "cell_type": "code",
   "execution_count": null,
   "metadata": {},
   "outputs": [],
   "source": [
    "G.nodes[\"risSXbH-u9w\"]"
   ]
  },
  {
   "cell_type": "code",
   "execution_count": null,
   "metadata": {},
   "outputs": [],
   "source": []
  },
  {
   "cell_type": "code",
   "execution_count": null,
   "metadata": {},
   "outputs": [],
   "source": [
    "with driver.session() as s:\n",
    "    playlist_info = s.read_transaction(get_all_user_relevant_playlist_info, \"default\")"
   ]
  },
  {
   "cell_type": "code",
   "execution_count": null,
   "metadata": {},
   "outputs": [],
   "source": [
    "playlist_info[0]"
   ]
  },
  {
   "cell_type": "code",
   "execution_count": null,
   "metadata": {},
   "outputs": [],
   "source": [
    "for playlist_name, video_id, time_added in playlist_info:\n",
    "    if video_id not in G.nodes:\n",
    "        # this means the video had no recommended videos, and wasn't matched by the previous step\n",
    "        # so it's probably down\n",
    "        continue\n",
    "    G.nodes[video_id][\"from\"] = playlist_name\n",
    "    G.nodes[video_id][\"time_added\"] = time_added"
   ]
  }
 ],
 "metadata": {
  "interpreter": {
   "hash": "5292a0b07f459e7ecedab3977dda08635479bbcf424fc3f30f633c446ecf0488"
  },
  "kernelspec": {
   "display_name": "youtube-recommender",
   "language": "python",
   "name": "youtube-recommender"
  },
  "language_info": {
   "codemirror_mode": {
    "name": "ipython",
    "version": 3
   },
   "file_extension": ".py",
   "mimetype": "text/x-python",
   "name": "python",
   "nbconvert_exporter": "python",
   "pygments_lexer": "ipython3",
   "version": "3.9.7"
  }
 },
 "nbformat": 4,
 "nbformat_minor": 4
}
