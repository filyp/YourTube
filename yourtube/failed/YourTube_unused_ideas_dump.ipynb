{
 "cells": [
  {
   "cell_type": "code",
   "execution_count": null,
   "id": "e7d370ee",
   "metadata": {},
   "outputs": [],
   "source": [
    "try:\n",
    "    %load_ext lab_black\n",
    "except ModuleNotFoundError:\n",
    "    pass"
   ]
  },
  {
   "cell_type": "code",
   "execution_count": null,
   "id": "feb1a47b",
   "metadata": {},
   "outputs": [],
   "source": [
    "# # display most watched\n",
    "\n",
    "# from yourtube.file_operations import get_youtube_watched_ids\n",
    "\n",
    "# w = get_youtube_watched_ids()\n",
    "# l = list(w.items())\n",
    "# l.sort(key=lambda pair: len(pair[1]), reverse=True)\n",
    "# most_watched, watch_times_lists = zip(*l)\n",
    "\n",
    "# display_video_links(G, most_watched[:8])"
   ]
  },
  {
   "cell_type": "code",
   "execution_count": null,
   "id": "53a38ba9",
   "metadata": {},
   "outputs": [],
   "source": [
    "# def recommend(SubG, pickiness=0):\n",
    "#     # this line recommends very normie videos\n",
    "#     # it's equivalent to pickiness==0\n",
    "#     # recs = sorted(SubG.in_degree(), key=lambda pair: pair[1], reverse=True)\n",
    "\n",
    "#     # to be honest, I don't fully understand this part\n",
    "#     # but it works better than the one on top:\n",
    "#     # first limit recs only to the best ones\n",
    "#     # this way, we'll omit most general normie recommendations later\n",
    "#     best_recs = [node for node, in_degree in SubG.in_degree() if in_degree >= pickiness]\n",
    "#     #     best_recs = [node for node, degree in SubG.degree() if degree >= pickiness]\n",
    "\n",
    "#     ids, scores = sort_nodes_by_in_degree(SubG, best_recs)\n",
    "#     return ids, scores"
   ]
  },
  {
   "cell_type": "code",
   "execution_count": null,
   "id": "44f01f75",
   "metadata": {},
   "outputs": [],
   "source": [
    "# with this method, middle click choice is possible\n",
    "# but it cannot be run remotely and is also a bit slower\n",
    "\n",
    "# def display_video_links(G, ids, node_ranks=None, text_width=40, text_height=4):\n",
    "#     \"\"\"It assumes that all the ids passed here were already scraped.\"\"\"\n",
    "\n",
    "#     def window_open(_, url):\n",
    "#         webbrowser.open(url)\n",
    "#         # alternative is to use Javascript https://stackoverflow.com/a/61900572/11756613\n",
    "#         # and it works even when jupyter is remote\n",
    "#         # but here, when called by an event, it's broken for some reason\n",
    "\n",
    "#     for id_ in ids:\n",
    "#         if \"is_down\" in G.nodes[id_]:\n",
    "#             continue\n",
    "\n",
    "#         url = id_to_url.format(id_)\n",
    "#         title = G.nodes[id_][\"title\"]\n",
    "\n",
    "#         image_url = id_to_thumbnail.format(id_)\n",
    "#         img = Image.from_url(image_url)\n",
    "#         event = Event(source=img, watched_events=[\"click\"])\n",
    "#         func = functools.partial(window_open, url=url)\n",
    "#         event.on_dom_event(func)\n",
    "#         display(img)\n",
    "\n",
    "#         rank = node_ranks[id_] if node_ranks is not None else None\n",
    "#         likes_to_views = liked_to_views_ratio(G, id_)\n",
    "#         likes_to_views = int(likes_to_views * 1000)\n",
    "#         print(f\"rank: {rank}   l/v: {likes_to_views}\")\n",
    "\n",
    "#         # make title wrap correctly and always take up the same number of lines\n",
    "#         # maximum youtube title length is 100 chars\n",
    "#         title = textwrap.wrap(title, width=text_width)\n",
    "#         title += [\"\"] * (text_height - len(title))\n",
    "#         print(\"\\n\".join(title))"
   ]
  },
  {
   "cell_type": "code",
   "execution_count": null,
   "id": "f9044b38",
   "metadata": {},
   "outputs": [],
   "source": []
  }
 ],
 "metadata": {
  "kernelspec": {
   "display_name": "Python 3 (ipykernel)",
   "language": "python",
   "name": "python3"
  },
  "language_info": {
   "codemirror_mode": {
    "name": "ipython",
    "version": 3
   },
   "file_extension": ".py",
   "mimetype": "text/x-python",
   "name": "python",
   "nbconvert_exporter": "python",
   "pygments_lexer": "ipython3",
   "version": "3.9.6"
  }
 },
 "nbformat": 4,
 "nbformat_minor": 5
}
