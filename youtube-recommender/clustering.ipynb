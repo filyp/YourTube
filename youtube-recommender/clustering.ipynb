{
 "cells": [
  {
   "cell_type": "code",
   "execution_count": null,
   "metadata": {},
   "outputs": [],
   "source": [
    "# TODO\n",
    "# https://github.com/mwcraig/ipyevents click and key cluster choice\n",
    "# https://scikit-network.readthedocs.io/en/latest/reference/hierarchy.html\n",
    "#     sknetwork.hierarchy.cut_balanced is it worth anything?\n",
    "# krakow balance param - plot how it affects clustering quality"
   ]
  },
  {
   "cell_type": "code",
   "execution_count": null,
   "metadata": {
    "heading_collapsed": "false"
   },
   "outputs": [],
   "source": [
    "%load_ext lab_black\n",
    "import networkx as nx\n",
    "import community as community_louvain\n",
    "import numpy as np\n",
    "from time import time\n",
    "from IPython.core.display import display, HTML\n",
    "from IPython.display import Image\n",
    "from scipy.cluster.hierarchy import cut_tree, to_tree, leaves_list\n",
    "from ipywidgets import Button, HBox, VBox, Output, Layout\n",
    "\n",
    "from paris import paris\n",
    "from paris_utils import plot_dendrogram\n",
    "from import_and_scrape_helpers import scrape\n",
    "from helpers import (\n",
    "    save_graph,\n",
    "    load_graph,\n",
    "    id_to_url,\n",
    "    id_to_thumbnail,\n",
    "    get_liked_from_time_range,\n",
    ")\n",
    "\n",
    "# import matplotlib.cm as cm\n",
    "# import matplotlib.pyplot as plt"
   ]
  },
  {
   "cell_type": "code",
   "execution_count": null,
   "metadata": {
    "heading_collapsed": "false"
   },
   "outputs": [],
   "source": [
    "# temporary autocompletion bug fix\n",
    "%config Completer.use_jedi = True"
   ]
  },
  {
   "cell_type": "code",
   "execution_count": null,
   "metadata": {
    "heading_collapsed": "false"
   },
   "outputs": [],
   "source": [
    "G = load_graph()"
   ]
  },
  {
   "cell_type": "code",
   "execution_count": null,
   "metadata": {
    "heading_collapsed": "false"
   },
   "outputs": [],
   "source": [
    "def sort_nodes_by_in_degree(G, nodes):\n",
    "    recs = sorted(G.subgraph(nodes).in_degree(), key=lambda pair: pair[1], reverse=True)\n",
    "    ids, scores = zip(*recs)\n",
    "    return ids, scores\n",
    "\n",
    "\n",
    "# def recommend(SubG, pickiness=0):\n",
    "#     # this line recommends very normie videos\n",
    "#     # it's equivalent to pickiness==0\n",
    "#     # recs = sorted(SubG.in_degree(), key=lambda pair: pair[1], reverse=True)\n",
    "\n",
    "#     # to be honest, I don't fully understand this part\n",
    "#     # but it works better than the one on top:\n",
    "#     # first limit recs only to the best ones\n",
    "#     # this way, we'll omit most general normie recommendations later\n",
    "#     best_recs = [node for node, in_degree in SubG.in_degree() if in_degree >= pickiness]\n",
    "#     #     best_recs = [node for node, degree in SubG.degree() if degree >= pickiness]\n",
    "\n",
    "#     ids, scores = sort_nodes_by_in_degree(SubG, best_recs)\n",
    "#     return ids, scores\n",
    "\n",
    "\n",
    "def display_video_links(G, ids, prefixes=None, show_first=15):\n",
    "    if prefixes is None:\n",
    "        prefixes = [\"\"] * len(ids)\n",
    "\n",
    "    for id_, prefix in list(zip(ids, prefixes))[:show_first]:\n",
    "        if \"title\" not in G.nodes[id_] or G.nodes[id_][\"title\"] is None:\n",
    "            scrape(id_, G)\n",
    "            if \"title\" not in G.nodes[id_]:\n",
    "                # scrapig failed - probably video is down\n",
    "                continue\n",
    "\n",
    "        url = id_to_url.format(id_)\n",
    "        title = G.nodes[id_][\"title\"]\n",
    "\n",
    "        display(\n",
    "            Image(\n",
    "                url=id_to_thumbnail.format(id_),\n",
    "                width=300,\n",
    "            )\n",
    "        )\n",
    "        display(HTML(f\"\"\"<a href=\"{url}\">{prefix} {title}</a>\"\"\"))\n",
    "        print()\n",
    "        print()\n",
    "\n",
    "\n",
    "#     save_graph(G)"
   ]
  },
  {
   "cell_type": "code",
   "execution_count": null,
   "metadata": {},
   "outputs": [],
   "source": [
    "seconds_in_year = 60 * 60 * 24 * 365\n",
    "start_time = time() - seconds_in_year * 3\n",
    "sources = get_liked_from_time_range(G, start_time)\n",
    "print(\"sources: \", len(sources))\n",
    "\n",
    "RecentDirected = G.edge_subgraph(G.out_edges(sources))\n",
    "\n",
    "# RecentDirectedNeighborhood = G.edge_subgraph(G.out_edges(RecentDirected.nodes))\n",
    "# Recent = RecentDirectedNeighborhood.to_undirected()\n",
    "Recent = RecentDirected.to_undirected()\n",
    "\n",
    "print(\"number of videos: \", Recent.number_of_nodes())"
   ]
  },
  {
   "cell_type": "code",
   "execution_count": null,
   "metadata": {},
   "outputs": [],
   "source": []
  },
  {
   "cell_type": "code",
   "execution_count": null,
   "metadata": {},
   "outputs": [],
   "source": [
    "# choose only the biggest connected component\n",
    "components = sorted(nx.connected_components(Recent), key=len, reverse=True)\n",
    "# for el in components[:5]:\n",
    "#     print(len(el))\n",
    "main_component = components[0]\n",
    "Main = Recent.subgraph(main_component)"
   ]
  },
  {
   "cell_type": "code",
   "execution_count": null,
   "metadata": {},
   "outputs": [],
   "source": [
    "D = paris(Main)"
   ]
  },
  {
   "cell_type": "code",
   "execution_count": null,
   "metadata": {},
   "outputs": [],
   "source": [
    "# plot_dendrogram(D)"
   ]
  },
  {
   "cell_type": "code",
   "execution_count": null,
   "metadata": {},
   "outputs": [],
   "source": [
    "tree = to_tree(D)\n",
    "\n",
    "main_ids_list = np.array(Main.nodes)"
   ]
  },
  {
   "cell_type": "code",
   "execution_count": null,
   "metadata": {},
   "outputs": [],
   "source": []
  },
  {
   "cell_type": "code",
   "execution_count": null,
   "metadata": {},
   "outputs": [],
   "source": [
    "left_out = Output()\n",
    "right_out = Output()\n",
    "\n",
    "layout = Layout(width=\"300px\", height=\"40px\")  # set width and height\n",
    "left_button = Button(layout=layout)\n",
    "right_button = Button(layout=layout)\n",
    "\n",
    "out = HBox(\n",
    "    [\n",
    "        VBox([left_button, left_out], layout=Layout(width=\"300px\")),\n",
    "        VBox([right_button, right_out], layout=Layout(width=\"300px\")),\n",
    "    ],\n",
    ")"
   ]
  },
  {
   "cell_type": "code",
   "execution_count": null,
   "metadata": {},
   "outputs": [],
   "source": [
    "def update_displayed_videos():\n",
    "    global left, right\n",
    "    left = tree.get_left()\n",
    "    right = tree.get_right()\n",
    "\n",
    "    left_leaves = left.pre_order()\n",
    "    right_leaves = right.pre_order()\n",
    "\n",
    "    left_out.clear_output(wait=True)\n",
    "    right_out.clear_output(wait=True)\n",
    "    with left_out:\n",
    "        cluster = main_ids_list[left_leaves]\n",
    "        ids, scores = sort_nodes_by_in_degree(RecentDirected, cluster)\n",
    "        display_video_links(G, ids)  # , scores)\n",
    "    with right_out:\n",
    "        cluster = main_ids_list[right_leaves]\n",
    "        ids, scores = sort_nodes_by_in_degree(RecentDirected, cluster)\n",
    "        display_video_links(G, ids)  # , scores)"
   ]
  },
  {
   "cell_type": "code",
   "execution_count": null,
   "metadata": {},
   "outputs": [],
   "source": [
    "def left_clicked(b):\n",
    "    global tree\n",
    "    tree = left\n",
    "    update_displayed_videos()\n",
    "\n",
    "\n",
    "def right_clicked(b):\n",
    "    global tree\n",
    "    tree = right\n",
    "    update_displayed_videos()\n",
    "\n",
    "\n",
    "left_button.on_click(left_clicked)\n",
    "right_button.on_click(right_clicked)\n",
    "\n",
    "update_displayed_videos()"
   ]
  },
  {
   "cell_type": "code",
   "execution_count": null,
   "metadata": {},
   "outputs": [],
   "source": [
    "out"
   ]
  },
  {
   "cell_type": "code",
   "execution_count": null,
   "metadata": {},
   "outputs": [],
   "source": []
  }
 ],
 "metadata": {
  "kernelspec": {
   "display_name": "youtube-recommender",
   "language": "python",
   "name": "youtube-recommender"
  },
  "language_info": {
   "codemirror_mode": {
    "name": "ipython",
    "version": 3
   },
   "file_extension": ".py",
   "mimetype": "text/x-python",
   "name": "python",
   "nbconvert_exporter": "python",
   "pygments_lexer": "ipython3",
   "version": "3.9.5"
  }
 },
 "nbformat": 4,
 "nbformat_minor": 4
}
